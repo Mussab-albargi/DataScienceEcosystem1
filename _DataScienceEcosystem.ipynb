{
 "cells": [
  {
   "cell_type": "markdown",
   "id": "bff70443",
   "metadata": {},
   "source": [
    "# Exercise 1: Create a Jupyter Notebook\n",
    "* Create a new Jupyter notebook called DataScienceEcosystem.ipynb"
   ]
  },
  {
   "cell_type": "markdown",
   "id": "dba101ff",
   "metadata": {},
   "source": [
    "# Exercise 2: Create markdown cell with title of the notebook\n",
    "\n",
    "* Create a markdown cell with the title Data Science Tools and Ecosystem using H1 style heading."
   ]
  },
  {
   "cell_type": "markdown",
   "id": "f2bdce06",
   "metadata": {},
   "source": [
    "# Data Science Tools and Ecosystem"
   ]
  },
  {
   "cell_type": "markdown",
   "id": "15229992",
   "metadata": {},
   "source": [
    "# Exercise 3 - Create a markdown cell for an introduction\n",
    "\n",
    "* Write an introductory sentence about the notebook such as the follows:\n",
    "\n",
    "* In this notebook, Data Science Tools and Ecosystem are summarized."
   ]
  },
  {
   "cell_type": "markdown",
   "id": "42cd8ac5",
   "metadata": {},
   "source": [
    "\"In this notebook, we will provide a comprehensive summary of the Data Science Tools and Ecosystem, exploring the essential tools and technologies used in the field of data science.\""
   ]
  },
  {
   "cell_type": "markdown",
   "id": "3242659e",
   "metadata": {},
   "source": [
    "# Exercise 4 - Create a markdown cell to list data science languages\n",
    "\n",
    "* Start the cell with an overview line such as:\n",
    "\n",
    "- Some of the popular languages that Data Scientists use are:"
   ]
  },
  {
   "cell_type": "markdown",
   "id": "f3f2e4ed",
   "metadata": {},
   "source": [
    "Some of the popular languages that Data Scientists use are:\n",
    "- Python\n",
    "- R\n",
    "- SQL\n",
    "- Julia\n",
    "- Scala\n",
    "- Java"
   ]
  },
  {
   "cell_type": "markdown",
   "id": "aefc94dd",
   "metadata": {},
   "source": [
    "# Exercise 5 - Create a markdown cell to list data science libraries\n",
    "Some of the commonly used libraries by Data Scientists include:\n",
    "- NumPy\n",
    "- pandas\n",
    "- matplotlib\n",
    "- scikit-learn\n",
    "- TensorFlow\n",
    "- Keras\n",
    "- PyTorch\n",
    "- SciPy\n",
    "- Seaborn"
   ]
  },
  {
   "cell_type": "markdown",
   "id": "5c18f4e5",
   "metadata": {},
   "source": [
    "# Exercise 6 - Create a markdown cell with a table of Data Science tools\n",
    "\n",
    "* Create a single column table in this cell with the first row containing the header Data Science Tools\n",
    "\n",
    "| Data Science Tools    |\n",
    "|-----------------------|\n",
    "| Jupyter Notebook      |\n",
    "| RStudio               |\n",
    "| Visual Studio Code    |"
   ]
  },
  {
   "cell_type": "markdown",
   "id": "1f55669f",
   "metadata": {},
   "source": [
    "# Exercise 7 - Create a markdown cell introducing arithmetic expression examples\n",
    "\n",
    "* Add a line in this cell with H3 style heading with text like:\n",
    "\n",
    "* Below are a few examples of evaluating arithmetic expressions in Python.\n",
    "\n",
    "### Examples of Evaluating Arithmetic Expressions in Python\n",
    "\n",
    "In this section, we'll explore some examples of evaluating arithmetic expressions using Python. We'll cover basic mathematical operations and expressions commonly used in data science and programming.\n"
   ]
  },
  {
   "cell_type": "markdown",
   "id": "c7d81211",
   "metadata": {},
   "source": [
    "# Exercise 8 - Create a code cell to multiply and add numbers\n",
    "\n",
    "* In this code cell evaluate the expression (3*4)+5.\n",
    "* Insert a comment line before the expression to explain the operation e.g.  * This a simple arithmetic expression to mutiply then add integers."
   ]
  },
  {
   "cell_type": "code",
   "execution_count": 3,
   "id": "5f9d832f",
   "metadata": {},
   "outputs": [
    {
     "data": {
      "text/plain": [
       "17"
      ]
     },
     "execution_count": 3,
     "metadata": {},
     "output_type": "execute_result"
    }
   ],
   "source": [
    "# This is a simple arithmetic expression to multiply then add integers\n",
    "result = (3 * 4) + 5\n",
    "result"
   ]
  },
  {
   "cell_type": "markdown",
   "id": "123087c0",
   "metadata": {},
   "source": [
    "# Exercise 9 - Create a code cell to convert minutes to hours\n",
    "\n",
    "* In this code cell write an expression that converts 200 minutes into hours.\n",
    "* Insert a comment line before the expression to explain the operation e.g.  * This will convert 200 minutes to hours by diving by 60.\n",
    "* Run the cell to evaluate the expression."
   ]
  },
  {
   "cell_type": "code",
   "execution_count": 4,
   "id": "d8d41aca",
   "metadata": {},
   "outputs": [
    {
     "data": {
      "text/plain": [
       "3.3333333333333335"
      ]
     },
     "execution_count": 4,
     "metadata": {},
     "output_type": "execute_result"
    }
   ],
   "source": [
    "# This will convert 200 minutes to hours by dividing by 60.\n",
    "minutes = 200\n",
    "hours = minutes / 60\n",
    "hours"
   ]
  },
  {
   "cell_type": "markdown",
   "id": "b6b95493",
   "metadata": {},
   "source": [
    "# Exercise 10 - Insert a markdown cell to list Objectives\n",
    "\n",
    "* Below the introduction cell created in Exercise 3, insert a new markdown cell to list the objectives that this notebook covered (i.e. some of the key takeaways from the course). In this new cell start with an introductory line titled: Objectives: in bold font. Then using an unordered list (bullets) indicate 3 to 5 items covered in this notebook, such as List popular languages for Data Science."
   ]
  },
  {
   "cell_type": "markdown",
   "id": "0eeb0ca8",
   "metadata": {},
   "source": [
    "Objectives:\n",
    "\n",
    "List popular languages for Data Science.\n",
    "Highlight commonly used libraries in Data Science.\n",
    "Introduce development environment tools for Data Science.\n",
    "Provide examples of evaluating arithmetic expressions in Python.\n",
    "Demonstrate simple arithmetic operations using code cells."
   ]
  },
  {
   "cell_type": "markdown",
   "id": "3844fa95",
   "metadata": {},
   "source": [
    "# Exercise 11 - Create a markdown cell to indicate the Author's name\n",
    "\n",
    "* In this markdown cell markdown cell include the following text Author in H2 * style heading. Include your name as regular text below the word Author."
   ]
  },
  {
   "cell_type": "markdown",
   "id": "e969cefa",
   "metadata": {},
   "source": [
    "## Author\n",
    "Mussab AL-Bargi\n"
   ]
  }
 ],
 "metadata": {
  "kernelspec": {
   "display_name": "Python 3 (ipykernel)",
   "language": "python",
   "name": "python3"
  },
  "language_info": {
   "codemirror_mode": {
    "name": "ipython",
    "version": 3
   },
   "file_extension": ".py",
   "mimetype": "text/x-python",
   "name": "python",
   "nbconvert_exporter": "python",
   "pygments_lexer": "ipython3",
   "version": "3.11.3"
  }
 },
 "nbformat": 4,
 "nbformat_minor": 5
}
